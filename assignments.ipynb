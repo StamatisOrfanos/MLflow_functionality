{
 "cells": [
  {
   "cell_type": "markdown",
   "metadata": {},
   "source": [
    "## Assignment 1"
   ]
  },
  {
   "cell_type": "markdown",
   "metadata": {},
   "source": [
    "Use iris dataset to write an MLflow program with below requirements to classify the 'variety' of petal.\n",
    "\n",
    "\n",
    "\n",
    "1. Experiments, Runs, Parameters, Metrics shall be logged and tracked.\n",
    "2. Input dataset, Train and Test data, Model shall be logged as artifacts.\n",
    "3. Set multiple tags to the run.\n",
    "4. Print the evaluation metrics.\n",
    "5. Print the last active run.\n",
    "\n",
    "Questions for this assignment\n",
    "Which library, module and class can be used for this problem statement ?"
   ]
  },
  {
   "cell_type": "code",
   "execution_count": null,
   "metadata": {},
   "outputs": [],
   "source": [
    "# Import libraries \n",
    "import warnings, os, joblib\n",
    "import pandas as pd\n",
    "import numpy as np \n",
    "import mlflow\n",
    "from sklearn.model_selection import train_test_split\n",
    "from sklearn.tree import DecisionTreeClassifier\n",
    "from sklearn import metrics, svm\n",
    "\n",
    "\n",
    "if __name__ == \"__main__\":\n",
    "    warnings.filterwarnings(\"ignore\")\n",
    "    np.random.seed(40)\n",
    "    \n",
    "    \n",
    "    # Set the experiment\n",
    "    exp = mlflow.set_experiment(experiment_name=\"assignment_1\")\n",
    "\n",
    "    mlflow.start_run()\n",
    "\n",
    "    # Encode the classes to codes and load the dataset, change the variety data from categorical to numerical codes\n",
    "    class_codes = {\"Setosa\": 1, \"Versicolor\": 2, \"Virginica\": 3}\n",
    "    data =  pd.read_csv(\"data/iris.csv\")\n",
    "    actual_data = data.replace({\"variety\": class_codes})\n",
    "    features = [\"sepal.length\", \"sepal.width\", \"petal.length\", \"petal.width\"]\n",
    "    features = actual_data[features]\n",
    "    labels =  actual_data[\"variety\"]\n",
    "    \n",
    "    # Create the train-test split\n",
    "    train_data, test_data, train_labels, test_labels = train_test_split(features.to_numpy(), labels.to_numpy(), random_state=1)\n",
    "    print(f\"The number of data rows in the dataset is: {len(actual_data)} and after the train-test split we have {len(train_data)} train rows and {len(test_data)} test rows\")\n",
    "    \n",
    "    \n",
    "    # Log the input dataset, train and test datasets\n",
    "    mlflow.log_artifact(\"data/iris.csv\", \"data\")\n",
    "    \n",
    "    train_df = pd.DataFrame(train_data, columns=[\"sepal.length\", \"sepal.width\", \"petal.length\", \"petal.width\"])\n",
    "    train_df.to_csv(\"train.csv\")\n",
    "    mlflow.log_artifact(\"train.csv\", \"data\")\n",
    "    os.remove(\"train.csv\")\n",
    "\n",
    "    test_df  = pd.DataFrame(test_data, columns=[\"sepal.length\", \"sepal.width\", \"petal.length\", \"petal.width\"])\n",
    "    train_df.to_csv(\"test.csv\")\n",
    "    mlflow.log_artifact(\"test.csv\", \"data\")\n",
    "    os.remove(\"test.csv\")\n",
    "    \n",
    "    # Create all the classifiers we want to test on the data and save as well [Decision Tree classifier object, Support Vector Machine]\n",
    "    decision_tree_classifier = DecisionTreeClassifier()\n",
    "    svm_classifier = svm.SVC(kernel='linear')\n",
    "    \n",
    "    # Train the models\n",
    "    decision_tree_classifier = decision_tree_classifier.fit(train_data, train_labels)\n",
    "    svm_classifier = svm_classifier.fit(train_data, train_labels)\n",
    "    \n",
    "    #Predict the response for test dataset\n",
    "    decision_tree_predictions = decision_tree_classifier.predict(test_data)\n",
    "    svm_predictions = svm_classifier.predict(test_data)\n",
    "    print(\"Decision Tree classifier Accuracy:\",metrics.accuracy_score(test_labels, decision_tree_predictions))\n",
    "    print(\"Support Vector Machine Accuracy:\",metrics.accuracy_score(test_labels, decision_tree_predictions))\n",
    "    \n",
    "    # Save the two models and save them in an artifact\n",
    "    joblib.dump(decision_tree_classifier, \"decision_tree_classifier.sav\")\n",
    "    joblib.dump(svm_classifier, \"svm_classifier.sav\")\n",
    "    mlflow.log_artifact(\"decision_tree_classifier.sav\", \"model\")\n",
    "    mlflow.log_artifact(\"svm_classifier.sav\", \"model\")\n",
    "    os.remove(\"decision_tree_classifier.sav\")\n",
    "    os.remove(\"svm_classifier.sav\")\n",
    "    \n",
    "    \n",
    "    tags = {\"Model\": \"Decision Tree\", \"Model\": \"Support Vector Machine\"}\n",
    "    mlflow.set_tags(tags=tags)\n",
    "    \n",
    "    mlflow.end_run()\n",
    "    print(f\"The last active run is: {mlflow.last_active_run()}\")"
   ]
  },
  {
   "cell_type": "markdown",
   "metadata": {},
   "source": []
  }
 ],
 "metadata": {
  "kernelspec": {
   "display_name": "base",
   "language": "python",
   "name": "python3"
  },
  "language_info": {
   "codemirror_mode": {
    "name": "ipython",
    "version": 3
   },
   "file_extension": ".py",
   "mimetype": "text/x-python",
   "name": "python",
   "nbconvert_exporter": "python",
   "pygments_lexer": "ipython3",
   "version": "3.10.9"
  }
 },
 "nbformat": 4,
 "nbformat_minor": 2
}
